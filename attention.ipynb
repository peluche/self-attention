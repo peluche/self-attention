{
  "cells": [
    {
      "cell_type": "markdown",
      "metadata": {
        "id": "G1767YGfJBUJ"
      },
      "source": [
        "# self-attention"
      ]
    },
    {
      "cell_type": "markdown",
      "metadata": {
        "id": "h6uEL9POJdJg"
      },
      "source": [
        "## setup"
      ]
    },
    {
      "cell_type": "code",
      "execution_count": 358,
      "metadata": {
        "id": "eZ2JLTWoI2Xc"
      },
      "outputs": [],
      "source": [
        "import numpy as np\n",
        "import math\n",
        "import copy\n",
        "import random\n",
        "import torch\n",
        "import torch.nn as nn\n",
        "import torch.nn.functional as F\n",
        "import matplotlib.pyplot as plt\n",
        "%matplotlib inline\n",
        "\n",
        "device = 'cuda' if torch.cuda.is_available() else 'cpu'"
      ]
    },
    {
      "cell_type": "code",
      "execution_count": 359,
      "metadata": {
        "id": "R5UzPzqsJ1DM"
      },
      "outputs": [],
      "source": [
        "EMBED_SIZE = 8\n",
        "VOCAB_SIZE = 11\n",
        "HIDDEN_SIZE = 32\n",
        "CONTEXT_SIZE = 10\n",
        "MAGIC_TOKEN = VOCAB_SIZE-1\n",
        "EPOCHS = 10000\n",
        "LEARNING_RATE = 3e-4"
      ]
    },
    {
      "cell_type": "code",
      "execution_count": 360,
      "metadata": {
        "id": "sLH6wwNFmoPp"
      },
      "outputs": [],
      "source": [
        "X = []\n",
        "Y = []\n",
        "\n",
        "for i in range(1000):\n",
        "  magic_token_idx = random.randint(1, CONTEXT_SIZE/2 -1)\n",
        "  x = [random.randint(1,VOCAB_SIZE-2) for _ in range(magic_token_idx)] + [MAGIC_TOKEN] + [0 for _ in range(CONTEXT_SIZE - magic_token_idx - 1)]\n",
        "  y = x[:magic_token_idx+1] + x[:magic_token_idx] + [0 for _ in range(CONTEXT_SIZE - 2 * magic_token_idx - 1)]\n",
        "  X.append(x)\n",
        "  Y.append(y)\n",
        "\n",
        "X = torch.tensor(X).to(device)\n",
        "Y= torch.tensor(Y).to(device)"
      ]
    },
    {
      "cell_type": "markdown",
      "metadata": {
        "id": "wwuS4B5TJfVW"
      },
      "source": [
        "## code"
      ]
    },
    {
      "cell_type": "code",
      "execution_count": 361,
      "metadata": {
        "id": "2svm5EyvNtMa"
      },
      "outputs": [],
      "source": [
        "def get_training():\n",
        "  X = torch.tensor([[0, 1, 2, 3],\n",
        "                    [3, 2, 1, 0]])\n",
        "\n",
        "  X = torch.randint(0, VOCAB_SIZE-2, (1000, CONTEXT_SIZE))\n",
        "\n",
        "  Y = torch.ones_like(X) # TODO\n",
        "  return X.to(device), Y.to(device)"
      ]
    },
    {
      "cell_type": "code",
      "execution_count": 362,
      "metadata": {
        "id": "NyzZx3uXJam-"
      },
      "outputs": [],
      "source": [
        "activations = {}\n",
        "\n",
        "class Attention(nn.Module):\n",
        "  def __init__(self):\n",
        "    super().__init__()\n",
        "    self.w_key = torch.nn.Linear(EMBED_SIZE, EMBED_SIZE, bias=False)\n",
        "    self.w_query = torch.nn.Linear(EMBED_SIZE, EMBED_SIZE, bias=False)\n",
        "    self.w_value = torch.nn.Linear(EMBED_SIZE, EMBED_SIZE, bias=False)\n",
        "    self.ln = nn.LayerNorm(EMBED_SIZE)\n",
        "\n",
        "  def forward(self, x):\n",
        "    # generate K,Q,V\n",
        "    key = self.w_key(x)\n",
        "    query = self.w_query(x)\n",
        "    value = self.w_value(x)\n",
        "    # pre-layernorm\n",
        "    # x = self.ln(x)\n",
        "    # do the attention\n",
        "    correlation = query @ key.transpose(-2, -1)\n",
        "    correlation = correlation / math.sqrt(key.shape[-1])\n",
        "    correlation = F.softmax(correlation, dim=-1)\n",
        "    activations['x'] = correlation.detach()\n",
        "    new_embedding = correlation @ value\n",
        "    # post-layernorm\n",
        "    new_embedding = self.ln(new_embedding)\n",
        "    return new_embedding\n",
        "\n",
        "class Net(nn.Module):\n",
        "  def __init__(self):\n",
        "    super().__init__()\n",
        "    self.token_embedding = nn.Embedding(VOCAB_SIZE, EMBED_SIZE)\n",
        "    self.positional_embedding = nn.Embedding(CONTEXT_SIZE, EMBED_SIZE)\n",
        "    self.attention = Attention()\n",
        "    self.ff = nn.Sequential(\n",
        "      nn.Linear(EMBED_SIZE, HIDDEN_SIZE),\n",
        "      nn.ReLU(),\n",
        "      nn.Linear(HIDDEN_SIZE, EMBED_SIZE),\n",
        "      nn.LayerNorm(EMBED_SIZE),\n",
        "    )\n",
        "    self.head = nn.Linear(EMBED_SIZE, VOCAB_SIZE)\n",
        "\n",
        "  def forward(self, x):\n",
        "    # (batch_size, context_size)\n",
        "    x = self.token_embedding(x)  # (batch_size, context_size, embedding_size)\n",
        "    # positional encoding\n",
        "    x = x + self.positional_embedding(torch.arange(0, x.shape[1]).to(device))\n",
        "    # attention\n",
        "    x = x + self.attention(x)\n",
        "    # feed forward\n",
        "    x = x + self.ff(x)\n",
        "    # head\n",
        "    x = self.head(x)\n",
        "    return x"
      ]
    },
    {
      "cell_type": "code",
      "execution_count": 363,
      "metadata": {
        "id": "qnggoXHwK7zo"
      },
      "outputs": [],
      "source": [
        "model = Net().to(device)"
      ]
    },
    {
      "cell_type": "code",
      "execution_count": 370,
      "metadata": {
        "id": "gDVu722fp_PW"
      },
      "outputs": [
        {
          "name": "stdout",
          "output_type": "stream",
          "text": [
            "    0 0.007539726328104734\n",
            "50000 0.0008970893686637282\n",
            "100000 0.0003907835343852639\n",
            "150000 7.376769644906744e-05\n",
            "200000 0.0001236584212165326\n",
            "250000 6.731127086823108e-06\n",
            "300000 5.363372474675998e-05\n",
            "350000 8.474625246890355e-06\n",
            "400000 2.9927092327852733e-05\n",
            "450000 5.174201191948669e-07\n"
          ]
        }
      ],
      "source": [
        "def train(model, epochs=EPOCHS, lr=LEARNING_RATE):\n",
        "  opt = torch.optim.Adam(model.parameters(), lr=lr)\n",
        "\n",
        "  for epoch in range(epochs):\n",
        "    out = model(X)\n",
        "    loss = F.cross_entropy(out.view(-1, out.shape[-1]), Y.view(-1))\n",
        "    opt.zero_grad()\n",
        "    loss.backward()\n",
        "    opt.step()\n",
        "    if epoch % 50000 == 0:\n",
        "      print(f'{epoch:5} {loss.item()}')\n",
        "\n",
        "train(model, epochs=500000, lr=3e-4)"
      ]
    },
    {
      "cell_type": "code",
      "execution_count": 371,
      "metadata": {
        "colab": {
          "base_uri": "https://localhost:8080/"
        },
        "id": "-xhSeSabbVMF",
        "outputId": "6838c255-35b8-4f0e-81da-8714c9e24216"
      },
      "outputs": [
        {
          "name": "stdout",
          "output_type": "stream",
          "text": [
            "accuracy: 1.0\n"
          ]
        },
        {
          "data": {
            "text/plain": [
              "tensor([[ 4, 10,  4,  0,  0,  0,  0,  0,  0,  0],\n",
              "        [ 2,  2,  6, 10,  2,  2,  6,  0,  0,  0],\n",
              "        [ 6, 10,  6,  0,  0,  0,  0,  0,  0,  0],\n",
              "        [ 4,  8, 10,  4,  8,  0,  0,  0,  0,  0],\n",
              "        [ 1,  5,  6, 10,  1,  5,  6,  0,  0,  0],\n",
              "        [ 5,  2,  7,  4, 10,  5,  2,  7,  4,  0],\n",
              "        [ 2,  7,  2,  3, 10,  2,  7,  2,  3,  0],\n",
              "        [ 4,  4,  7, 10,  4,  4,  7,  0,  0,  0],\n",
              "        [ 4,  4,  4, 10,  4,  4,  4,  0,  0,  0],\n",
              "        [ 1,  9,  6,  3, 10,  1,  9,  6,  3,  0],\n",
              "        [ 7, 10,  7,  0,  0,  0,  0,  0,  0,  0],\n",
              "        [ 3,  5, 10,  3,  5,  0,  0,  0,  0,  0],\n",
              "        [ 1,  9,  5,  8, 10,  1,  9,  5,  8,  0],\n",
              "        [ 4, 10,  4,  0,  0,  0,  0,  0,  0,  0],\n",
              "        [ 5,  4, 10,  5,  4,  0,  0,  0,  0,  0],\n",
              "        [ 7, 10,  7,  0,  0,  0,  0,  0,  0,  0],\n",
              "        [ 2,  5, 10,  2,  5,  0,  0,  0,  0,  0],\n",
              "        [ 5,  1, 10,  5,  1,  0,  0,  0,  0,  0],\n",
              "        [ 1, 10,  1,  0,  0,  0,  0,  0,  0,  0],\n",
              "        [ 9, 10,  9,  0,  0,  0,  0,  0,  0,  0]], device='cuda:0')"
            ]
          },
          "execution_count": 371,
          "metadata": {},
          "output_type": "execute_result"
        }
      ],
      "source": [
        "res = model(X).argmax(-1)\n",
        "correct = ((res == Y).float().sum(-1) == CONTEXT_SIZE).float().sum()\n",
        "print(f'accuracy: {correct / len(X)}')\n",
        "res[:20]"
      ]
    },
    {
      "cell_type": "code",
      "execution_count": 376,
      "metadata": {},
      "outputs": [
        {
          "name": "stdout",
          "output_type": "stream",
          "text": [
            "tensor([[ 7,  1,  9,  2, 10,  7,  1,  9,  2,  0]], device='cuda:0')\n"
          ]
        },
        {
          "data": {
            "image/png": "[encoded data removed]",
            "text/plain": [
              "<Figure size 640x480 with 1 Axes>"
            ]
          },
          "metadata": {},
          "output_type": "display_data"
        }
      ],
      "source": [
        "res = model(torch.tensor([[7,1,9,2,10,0,0,0,0,0]]).to(device)).argmax(-1)\n",
        "# res = model(torch.tensor([[1,2,10,0,0,0,0,0,0,0]]).to(device)).argmax(-1)\n",
        "# res = model(torch.tensor([[8,10,0,0,0,0,0,0,0,0]]).to(device)).argmax(-1)\n",
        "# res = model(torch.tensor([[8,3,4,10,0,0,0,0,0,0]]).to(device)).argmax(-1)\n",
        "print(res)\n",
        "\n",
        "_ = plt.imshow(activations['x'].squeeze().cpu())"
      ]
    },
    {
      "cell_type": "code",
      "execution_count": 378,
      "metadata": {},
      "outputs": [
        {
          "data": {
            "text/plain": [
              "<All keys matched successfully>"
            ]
          },
          "execution_count": 378,
          "metadata": {},
          "output_type": "execute_result"
        }
      ],
      "source": [
        "# save\n",
        "# ----\n",
        "# torch.save(model.state_dict(), 'weights/copy-task-500k-epochs.pt')\n",
        "\n",
        "# load\n",
        "# ----\n",
        "# m = Net().to(device)\n",
        "# m.load_state_dict(torch.load('weights/copy-task-500k-epochs.pt'))"
      ]
    },
    {
      "cell_type": "code",
      "execution_count": 382,
      "metadata": {},
      "outputs": [
        {
          "data": {
            "image/png": "[encoded data removed]",
            "text/plain": [
              "<Figure size 640x480 with 1 Axes>"
            ]
          },
          "metadata": {},
          "output_type": "display_data"
        }
      ],
      "source": [
        "m(torch.tensor([[8,8,8,8,10,8,8,8,8,0]], device=device)).argmax(-1).tolist()[:10]\n",
        "_ = plt.imshow(activations['x'].squeeze().cpu())"
      ]
    }
  ],
  "metadata": {
    "accelerator": "GPU",
    "colab": {
      "gpuType": "T4",
      "provenance": [],
      "toc_visible": true
    },
    "kernelspec": {
      "display_name": "venv_hf_nlp",
      "language": "python",
      "name": "venv_hf_nlp"
    },
    "language_info": {
      "codemirror_mode": {
        "name": "ipython",
        "version": 3
      },
      "file_extension": ".py",
      "mimetype": "text/x-python",
      "name": "python",
      "nbconvert_exporter": "python",
      "pygments_lexer": "ipython3",
      "version": "3.11.2"
    }
  },
  "nbformat": 4,
  "nbformat_minor": 0
}
