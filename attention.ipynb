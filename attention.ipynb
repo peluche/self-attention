{
  "cells": [
    {
      "cell_type": "markdown",
      "metadata": {
        "id": "G1767YGfJBUJ"
      },
      "source": [
        "# self-attention"
      ]
    },
    {
      "cell_type": "markdown",
      "metadata": {
        "id": "h6uEL9POJdJg"
      },
      "source": [
        "## setup"
      ]
    },
    {
      "cell_type": "code",
      "execution_count": 1816,
      "metadata": {
        "id": "eZ2JLTWoI2Xc"
      },
      "outputs": [],
      "source": [
        "import numpy as np\n",
        "import math\n",
        "import copy\n",
        "import random\n",
        "import torch\n",
        "import torch.nn as nn\n",
        "import torch.nn.functional as F\n",
        "import matplotlib.pyplot as plt\n",
        "from matplotlib.animation import FuncAnimation\n",
        "from IPython.display import HTML\n",
        "from sklearn.decomposition import PCA\n",
        "from sklearn.decomposition import KernelPCA\n",
        "%matplotlib inline\n",
        "\n",
        "device = 'cuda' if torch.cuda.is_available() else 'cpu'"
      ]
    },
    {
      "cell_type": "code",
      "execution_count": 1817,
      "metadata": {},
      "outputs": [],
      "source": [
        "EMBED_SIZE = 20\n",
        "N_HEADS = 5\n",
        "VOCAB_SIZE = 11\n",
        "HIDDEN_SIZE = 32\n",
        "CONTEXT_SIZE = 10\n",
        "MAGIC_TOKEN = VOCAB_SIZE - 1\n",
        "EPOCHS = 10000\n",
        "LEARNING_RATE = 3e-4\n",
        "DROPOUT = 0.1"
      ]
    },
    {
      "cell_type": "code",
      "execution_count": 1818,
      "metadata": {
        "id": "sLH6wwNFmoPp"
      },
      "outputs": [],
      "source": [
        "X = []\n",
        "Y = []\n",
        "\n",
        "for i in range(11000):\n",
        "  magic_token_idx = random.randint(1, CONTEXT_SIZE/2 - 1)\n",
        "  x = [random.randint(1,VOCAB_SIZE-2) for _ in range(magic_token_idx)] + [MAGIC_TOKEN] + [0 for _ in range(CONTEXT_SIZE - magic_token_idx - 1)]\n",
        "  y = x[:magic_token_idx+1] + x[:magic_token_idx] + [0 for _ in range(CONTEXT_SIZE - 2 * magic_token_idx - 1)]\n",
        "  X.append(x)\n",
        "  Y.append(y)\n",
        "\n",
        "Xall = torch.tensor(X).to(device)\n",
        "Yall = torch.tensor(Y).to(device)\n",
        "\n",
        "X = Xall[:10000]\n",
        "Y = Yall[:10000]\n",
        "\n",
        "Xtest = Xall[10000:]\n",
        "Ytest = Yall[10000:]"
      ]
    },
    {
      "cell_type": "markdown",
      "metadata": {
        "id": "wwuS4B5TJfVW"
      },
      "source": [
        "## code"
      ]
    },
    {
      "cell_type": "markdown",
      "metadata": {},
      "source": [
        "### RoPE\n",
        "paper: [RoFormer: Enhanced Transformer with Rotary Position Embedding](https://arxiv.org/pdf/2104.09864.pdf)"
      ]
    },
    {
      "cell_type": "code",
      "execution_count": 1819,
      "metadata": {},
      "outputs": [],
      "source": [
        "def get_rotation_matrix(m, embed_size=EMBED_SIZE):\n",
        "  thetas = torch.tensor([10000 ** (-(2 * (i // 2)) / embed_size) for i in range(embed_size)])\n",
        "  thetas *= m\n",
        "  rotation = torch.eye(embed_size)\n",
        "  rotation *= thetas.cos()\n",
        "  col_vals = torch.arange(0, embed_size, 2)\n",
        "  row_vals = col_vals + 1\n",
        "  rotation[col_vals, row_vals] = -thetas.sin()[::2]\n",
        "  rotation[row_vals, col_vals] = thetas.sin()[::2]\n",
        "  return rotation.T\n",
        "\n",
        "def get_rotation_matrices(context_size=CONTEXT_SIZE, embed_size=EMBED_SIZE):\n",
        "  rotations = [get_rotation_matrix(m, embed_size) for m in range(context_size)]\n",
        "  return torch.stack(rotations).to(device)\n",
        "\n",
        "def get_efficient_rotation_matrix(context_size, embed_size=EMBED_SIZE):\n",
        "  thetas = torch.tensor([10000 ** (-(2 * (i // 2)) / embed_size) for i in range(embed_size)])\n",
        "  cos_ = [(m * thetas).cos() for m in range(context_size)]\n",
        "  sin_ = [(m * thetas).sin() for m in range(context_size)]\n",
        "  return torch.stack(cos_).to(device), torch.stack(sin_).to(device)\n",
        "\n",
        "def compute_efficient_rotation_matrices(x):\n",
        "  B, C, E = x.shape\n",
        "  cos_, sin_ = get_efficient_rotation_matrix(C, E)\n",
        "  x1 = x[:, :, ::2]\n",
        "  x2 = -x[:, :, 1::2]\n",
        "  y = torch.stack((x2, x1), dim=-1).view(B, C, E)\n",
        "  rotated = x * cos_ + y * sin_\n",
        "  return rotated\n",
        "\n",
        "def apply_rope(x, fast=True):\n",
        "  if fast: return compute_efficient_rotation_matrices(x)\n",
        "  B, C, E = x.shape\n",
        "  return (x.view(B, C, 1, E) @ get_rotation_matrices(C, E)).view(B, C, E)\n",
        "\n",
        "def test_implems():\n",
        "  x = torch.arange(16).view(2, 2, 4).float().to(device)\n",
        "  B, C, E = x.shape\n",
        "\n",
        "  rotated_matrix = (x.view(B, C, 1, E) @ get_rotation_matrices(C, E)).view(B, C, E)\n",
        "  rotated_fast = compute_efficient_rotation_matrices(x)\n",
        "  assert torch.allclose(rotated_matrix, rotated_fast), 'matrix() and fast() are not equal'\n",
        "\n",
        "test_implems()\n",
        "# get_rotation_matrices(embed_size=6)"
      ]
    },
    {
      "cell_type": "markdown",
      "metadata": {},
      "source": [
        "### ALiBi\n",
        "paper: [Train Short, Test Long: Attention with Linear Biases Enables Input Length Extrapolation](https://arxiv.org/pdf/2108.12409.pdf)"
      ]
    },
    {
      "cell_type": "code",
      "execution_count": 1820,
      "metadata": {},
      "outputs": [],
      "source": [
        "def alibi_distances(n_context, is_encoder=True):\n",
        "    diag_dists = torch.cumsum(torch.triu(torch.ones(n_context, n_context).to(device)), dim=1) * -1\n",
        "    diag_dists[diag_dists != 0] += 1\n",
        "\n",
        "    dists = diag_dists.transpose(-2, -1)\n",
        "    if is_encoder:\n",
        "        dists = dists + diag_dists\n",
        "    return dists\n",
        "\n",
        "def alibi_scalers(n_heads):\n",
        "    # vector with M values in a geometric sequence (starting at 2^-(8/n)) where n == number of heads.\n",
        "    m_vector = 2 ** -((8 / n_heads) * torch.arange(1, n_heads + 1).to(device))\n",
        "    return m_vector.view(-1, 1, 1) # reshape to broadcast correctly\n",
        "\n",
        "def apply_alibi(correlation, is_encoder=True):\n",
        "    n_context = correlation.shape[-1]\n",
        "    n_heads = correlation.shape[-3]\n",
        "    scaled_dists = alibi_scalers(n_heads) * alibi_distances(n_context, is_encoder)\n",
        "    return correlation + scaled_dists\n",
        "\n",
        "# alibi_distances(4, is_encoder=False)\n",
        "# alibi_scalers(8)"
      ]
    },
    {
      "cell_type": "markdown",
      "metadata": {},
      "source": [
        "### transformer"
      ]
    },
    {
      "cell_type": "code",
      "execution_count": 1821,
      "metadata": {},
      "outputs": [],
      "source": [
        "activations = {}\n",
        "\n",
        "def create_positional_encoding(context_size=CONTEXT_SIZE, embed_size=EMBED_SIZE):\n",
        "  '''sinusoidal positional encoding - see Attention is all you need'''\n",
        "  position = torch.arange(context_size).unsqueeze(1)\n",
        "  div_term = torch.exp(torch.arange(0, embed_size, 2) * -(math.log(10000.0) / embed_size))\n",
        "  positional_encoding = torch.zeros(context_size, embed_size)\n",
        "  positional_encoding[:, 0::2] = torch.sin(position * div_term)\n",
        "  positional_encoding[:, 1::2] = torch.cos(position * div_term)\n",
        "  return positional_encoding.to(device)\n",
        "\n",
        "class MultiheadAttention(nn.Module):\n",
        "  def __init__(self, n_heads, embed_size, dropout):\n",
        "    super().__init__()\n",
        "    assert embed_size % n_heads == 0, f'{embed_size=} should be divisible by {n_heads=}'\n",
        "    self.n_heads = n_heads\n",
        "    self.embed_size = embed_size\n",
        "    self.dropout_rate = dropout\n",
        "    self.qkv = nn.Linear(embed_size, embed_size * 3, bias=False) # generate Q, K, V all at once\n",
        "    self.dropout = nn.Dropout(dropout)\n",
        "    self.ln = nn.LayerNorm(embed_size)\n",
        "    self.rope = get_rotation_matrices(embed_size=embed_size)\n",
        "\n",
        "  def forward(self, x):\n",
        "    B, C, E = x.shape\n",
        "    # pre-layernorm\n",
        "    x = self.ln(x)\n",
        "    # q, k, v = self.qkv(x).split(self.embed_size, dim=-1)\n",
        "    q, k, v = self.qkv(x).chunk(3, dim=-1)\n",
        "    # --- RoPE ---\n",
        "    q = apply_rope(q)\n",
        "    k = apply_rope(k)\n",
        "    \n",
        "    # split heads\n",
        "    q = q.view(B, C, self.n_heads, self.embed_size // self.n_heads).transpose(1, 2)\n",
        "    k = k.view(B, C, self.n_heads, self.embed_size // self.n_heads).transpose(1, 2)\n",
        "    v = v.view(B, C, self.n_heads, self.embed_size // self.n_heads).transpose(1, 2)\n",
        "    # fast version\n",
        "    # y = F.scaled_dot_product_attention(q, k, v, is_causal=False, dropout_p=self.dropout_rate if self.training else 0.)\n",
        "    # by hand\n",
        "    correlation = q @ k.transpose(-2, -1)\n",
        "    correlation = correlation / math.sqrt(k.shape[-1])\n",
        "\n",
        "    # --- ALiBi ---\n",
        "    # correlation = apply_alibi(correlation)\n",
        "\n",
        "    correlation = F.softmax(correlation, dim=-1)\n",
        "    activations['x'] = correlation.detach()\n",
        "    correlation = F.dropout(correlation, p=self.dropout_rate, training=self.training)\n",
        "    y = correlation @ v\n",
        "    # combine heads\n",
        "    y = y.transpose(1, 2).contiguous().view(B, C, self.embed_size)\n",
        "    y = self.dropout(y)\n",
        "    return y\n",
        "\n",
        "class Attention(nn.Module):\n",
        "  def __init__(self, embed_size, dropout):\n",
        "    super().__init__()\n",
        "    self.w_key = torch.nn.Linear(embed_size, embed_size, bias=False)\n",
        "    self.w_query = torch.nn.Linear(embed_size, embed_size, bias=False)\n",
        "    self.w_value = torch.nn.Linear(embed_size, embed_size, bias=False)\n",
        "    self.ln = nn.LayerNorm(embed_size)\n",
        "    self.attn_dropout = nn.Dropout(dropout)\n",
        "    self.dropout = nn.Dropout(dropout)\n",
        "    self.rope = get_rotation_matrices(embed_size=embed_size)\n",
        "\n",
        "  def forward(self, x):\n",
        "    # pre-layernorm\n",
        "    x = self.ln(x)\n",
        "    # generate K,Q,V\n",
        "    key = self.w_key(x)\n",
        "    query = self.w_query(x)\n",
        "    value = self.w_value(x)\n",
        "    # apply RoPE\n",
        "    query = (query.view(B, C, 1, E) @ self.rope).view(B, C, E)\n",
        "    key = (key.view(B, C, 1, E) @ self.rope).view(B, C, E)\n",
        "    # # pre-layernorm\n",
        "    # x = self.ln(x)\n",
        "    # do the attention\n",
        "    correlation = query @ key.transpose(-2, -1)\n",
        "    correlation = correlation / math.sqrt(key.shape[-1])\n",
        "    correlation = F.softmax(correlation, dim=-1)\n",
        "    activations['x'] = correlation.detach()\n",
        "    correlation = self.attn_dropout(correlation)\n",
        "    new_embedding = correlation @ value\n",
        "    # post-layernorm\n",
        "    # new_embedding = self.ln(new_embedding)\n",
        "    new_embedding = self.dropout(new_embedding)\n",
        "    return new_embedding\n",
        "\n",
        "class Net(nn.Module):\n",
        "  def __init__(self, learned_positional_encoding=True, multihead=False, n_heads=N_HEADS, embed_size=EMBED_SIZE, dropout=DROPOUT, hidden_size=HIDDEN_SIZE, vocab_size=VOCAB_SIZE, context_size=CONTEXT_SIZE):\n",
        "    super().__init__()\n",
        "    self.use_learned_positional_encoding = learned_positional_encoding\n",
        "    self.context_size = context_size\n",
        "    # net\n",
        "    self.token_embedding = nn.Embedding(vocab_size, embed_size)\n",
        "    self.positional_embedding = nn.Embedding(context_size, embed_size) if learned_positional_encoding else create_positional_encoding()\n",
        "    self.attention = MultiheadAttention(n_heads, embed_size, dropout=dropout) if multihead else Attention(embed_size, dropout=dropout)\n",
        "    self.ff = nn.Sequential(\n",
        "      nn.LayerNorm(embed_size), # pre-layernorm\n",
        "      nn.Linear(embed_size, hidden_size),\n",
        "      nn.ReLU(),\n",
        "      nn.Linear(hidden_size, embed_size),\n",
        "      # nn.LayerNorm(EMBED_SIZE), # post-layernorm\n",
        "      nn.Dropout(dropout)\n",
        "    )\n",
        "    self.head = nn.Linear(embed_size, vocab_size)\n",
        "\n",
        "  def forward(self, x):\n",
        "    # (batch_size, context_size)\n",
        "    x = self.token_embedding(x)  # (batch_size, context_size, embedding_size)\n",
        "    # positional encoding\n",
        "    # x = x + self.get_positional_embedding()\n",
        "    # attention\n",
        "    x = x + self.attention(x)\n",
        "    # feed forward\n",
        "    x = x + self.ff(x)\n",
        "    # head\n",
        "    x = self.head(x)\n",
        "    return x\n",
        "  \n",
        "  def get_positional_embedding(self):\n",
        "    if self.use_learned_positional_encoding:\n",
        "      return self.positional_embedding(torch.arange(0, self.context_size).to(device))\n",
        "    else:\n",
        "      return self.positional_embedding\n",
        "    \n",
        "  def get_positional_embeddings(self):\n",
        "    return self.get_positional_embedding().detach().cpu()"
      ]
    },
    {
      "cell_type": "code",
      "execution_count": 1822,
      "metadata": {},
      "outputs": [],
      "source": [
        "model = Net(learned_positional_encoding=True, multihead=True).to(device)\n",
        "positional_embeddings = []"
      ]
    },
    {
      "cell_type": "code",
      "execution_count": 1823,
      "metadata": {
        "id": "gDVu722fp_PW"
      },
      "outputs": [
        {
          "name": "stdout",
          "output_type": "stream",
          "text": [
            "    0 2.388025999069214\n"
          ]
        },
        {
          "name": "stdout",
          "output_type": "stream",
          "text": [
            "  500 0.566249430179596\n",
            " 1000 0.35922279953956604\n",
            " 1500 0.29358625411987305\n",
            " 2000 0.24927619099617004\n",
            " 2500 0.21707428991794586\n",
            " 3000 0.20084519684314728\n",
            " 3500 0.18816711008548737\n",
            " 4000 0.17805162072181702\n",
            " 4500 0.17268046736717224\n"
          ]
        }
      ],
      "source": [
        "def train(model, epochs=EPOCHS, lr=LEARNING_RATE):\n",
        "  model.train()\n",
        "  opt = torch.optim.Adam(model.parameters(), lr=lr)\n",
        "\n",
        "  for epoch in range(epochs):\n",
        "    out = model(X)\n",
        "    loss = F.cross_entropy(out.view(-1, out.shape[-1]), Y.view(-1))\n",
        "    opt.zero_grad()\n",
        "    loss.backward()\n",
        "    opt.step()\n",
        "    if epoch % 10 == 0:\n",
        "      positional_embeddings.append(model.get_positional_embeddings())\n",
        "    if epoch % 500 == 0:\n",
        "      print(f'{epoch:5} {loss.item()}')\n",
        "\n",
        "train(model, epochs=5000)"
      ]
    },
    {
      "cell_type": "code",
      "execution_count": 1824,
      "metadata": {
        "colab": {
          "base_uri": "https://localhost:8080/"
        },
        "id": "-xhSeSabbVMF",
        "outputId": "6838c255-35b8-4f0e-81da-8714c9e24216"
      },
      "outputs": [
        {
          "name": "stdout",
          "output_type": "stream",
          "text": [
            "accuracy on test : 0.6660000085830688\n",
            "accuracy on train: 0.6789999604225159\n"
          ]
        },
        {
          "data": {
            "text/plain": [
              "tensor([[ 4,  2,  3, 10,  4,  2,  3,  0,  0,  0],\n",
              "        [ 3,  9, 10,  3,  9,  0,  0,  0,  0,  0],\n",
              "        [ 2, 10,  2,  0,  0,  0,  0,  0,  0,  0],\n",
              "        [ 7, 10,  7,  0,  0,  0,  0,  0,  0,  0],\n",
              "        [ 2,  4,  7,  3, 10,  2,  7,  7,  3,  0]], device='cuda:0')"
            ]
          },
          "execution_count": 1824,
          "metadata": {},
          "output_type": "execute_result"
        }
      ],
      "source": [
        "model.eval()\n",
        "for x, y, label in [(Xtest, Ytest, 'test'), (X, Y, 'train')]:\n",
        "    res = model(x).argmax(-1)\n",
        "    correct = ((res == y).float().sum(-1) == CONTEXT_SIZE).float().sum()\n",
        "    print(f'accuracy on {label:5}: {correct / len(x)}')\n",
        "res[:5]"
      ]
    },
    {
      "cell_type": "code",
      "execution_count": 1825,
      "metadata": {},
      "outputs": [
        {
          "name": "stdout",
          "output_type": "stream",
          "text": [
            "tensor([[ 7,  1,  9,  2, 10,  7,  1,  9,  2,  0]], device='cuda:0')\n"
          ]
        },
        {
          "data": {
            "image/png": "[encoded data removed]",
            "text/plain": [
              "<Figure size 1200x400 with 5 Axes>"
            ]
          },
          "metadata": {},
          "output_type": "display_data"
        }
      ],
      "source": [
        "model.eval()\n",
        "res = model(torch.tensor([[7,1,9,2,10,0,0,0,0,0]]).to(device)).argmax(-1)\n",
        "# res = model(torch.tensor([[1,2,10,0,0,0,0,0,0,0]]).to(device)).argmax(-1)\n",
        "# res = model(torch.tensor([[8,10,0,0,0,0,0,0,0,0]]).to(device)).argmax(-1)\n",
        "# res = model(torch.tensor([[8,3,4,10,0,0,0,0,0,0]]).to(device)).argmax(-1)\n",
        "print(res)\n",
        "\n",
        "if activations['x'].dim() == 4:\n",
        "  activations['x'] = activations['x'].squeeze()\n",
        "repeat = activations['x'].shape[0]\n",
        "fig, ax = plt.subplots(1, repeat, figsize=(12, 4))\n",
        "for i in range(repeat):\n",
        "  ax[i].imshow(activations['x'][i].cpu())"
      ]
    },
    {
      "cell_type": "code",
      "execution_count": 1826,
      "metadata": {},
      "outputs": [],
      "source": [
        "# save\n",
        "# ----\n",
        "# torch.save(model.state_dict(), 'weights/copy-task-500k-epochs.pt')\n",
        "\n",
        "# load\n",
        "# ----\n",
        "# m = Net().to(device)\n",
        "# m.load_state_dict(torch.load('weights/copy-task-500k-epochs.pt'))"
      ]
    },
    {
      "cell_type": "markdown",
      "metadata": {},
      "source": [
        "## testing ideas"
      ]
    },
    {
      "cell_type": "markdown",
      "metadata": {},
      "source": [
        "ideas requiring positional encoding / attention:\n",
        "1) additions using LLM\n",
        "2) arithmetic / geometric sequence prediction 1, 3, 5 ? → 7  or 2, 4, 8, ? → 16\n",
        "3) (BOW?) sort 1, 3, 2, 4, 1 → 1, 1, 2, 3, 4\n",
        "4) parens summation: (2 2 3) (4 5) → 7, 9\n",
        "5) substring extraction between markers: 1, 4, 56, 10, 43, 54, 56, 6, 10 → 43, 54, 56, 6"
      ]
    },
    {
      "cell_type": "markdown",
      "metadata": {},
      "source": [
        "## visualize positional embeddings"
      ]
    },
    {
      "cell_type": "markdown",
      "metadata": {},
      "source": [
        "### dotproduct / cosine distance"
      ]
    },
    {
      "cell_type": "code",
      "execution_count": 1827,
      "metadata": {},
      "outputs": [
        {
          "data": {
            "image/png": "[encoded data removed]",
            "text/plain": [
              "<Figure size 640x480 with 2 Axes>"
            ]
          },
          "metadata": {},
          "output_type": "display_data"
        },
        {
          "data": {
            "image/png": "[encoded data removed]",
            "text/plain": [
              "<Figure size 640x480 with 2 Axes>"
            ]
          },
          "metadata": {},
          "output_type": "display_data"
        },
        {
          "data": {
            "image/png": "[encoded data removed]",
            "text/plain": [
              "<Figure size 640x480 with 2 Axes>"
            ]
          },
          "metadata": {},
          "output_type": "display_data"
        }
      ],
      "source": [
        "def plot_positional_embeddings_relations(model, title):\n",
        "    x = model.get_positional_embeddings()\n",
        "    dot_products = x @ x.T\n",
        "    x_norm = x / x.norm(dim=1, keepdim=True)\n",
        "    cosine_similarities = x_norm @ x_norm.T\n",
        "    # plot\n",
        "    fig, ax = plt.subplots(1, 2)\n",
        "    ax[0].imshow(dot_products)\n",
        "    ax[0].set_title('dot products')\n",
        "    ax[1].imshow(cosine_similarities)\n",
        "    ax[1].set_title('cosine similarities')\n",
        "    fig.text(0.5, 0.8, title, ha='center', va='center', fontsize=16)\n",
        "    plt.show()\n",
        "\n",
        "m_rand = Net(learned_positional_encoding=True).to(device)\n",
        "m_sin = Net(learned_positional_encoding=False).to(device)\n",
        "plot_positional_embeddings_relations(model, 'Trained')\n",
        "plot_positional_embeddings_relations(m_rand, 'Random')\n",
        "plot_positional_embeddings_relations(m_sin, 'Sinusoidal')"
      ]
    },
    {
      "cell_type": "markdown",
      "metadata": {},
      "source": [
        "### PCA"
      ]
    },
    {
      "cell_type": "code",
      "execution_count": 1828,
      "metadata": {},
      "outputs": [
        {
          "data": {
            "image/png": "[encoded data removed]",
            "text/plain": [
              "<Figure size 600x300 with 2 Axes>"
            ]
          },
          "metadata": {},
          "output_type": "display_data"
        },
        {
          "data": {
            "image/png": "[encoded data removed]",
            "text/plain": [
              "<Figure size 600x300 with 2 Axes>"
            ]
          },
          "metadata": {},
          "output_type": "display_data"
        },
        {
          "data": {
            "image/png": "[encoded data removed]",
            "text/plain": [
              "<Figure size 600x300 with 2 Axes>"
            ]
          },
          "metadata": {},
          "output_type": "display_data"
        }
      ],
      "source": [
        "def plot_positional_embeddings_pca(model, title='', figsize=(6, 3)):\n",
        "    def reduce_dims(x, dim):\n",
        "        pca = PCA(n_components=dim)\n",
        "        y = pca.fit_transform(x)\n",
        "        if dim == 1: return y[:, 0], np.zeros_like(y[:, 0])\n",
        "        return y[:, 0], y[:, 1]\n",
        "\n",
        "    x = model.get_positional_embeddings()\n",
        "    fig, ax = plt.subplots(1, 2, figsize=figsize)\n",
        "    for j, dim in enumerate([1, 2]):\n",
        "        xs, ys = reduce_dims(x, dim)\n",
        "        # plot\n",
        "        ax[j].scatter(xs, ys, label=f'pca dim={dim}')\n",
        "        for i in range(xs.shape[0]):\n",
        "            ax[j].annotate(f'{i}', xy=(xs[i], ys[i]))\n",
        "        fig.text(0.5, 0.95, title, ha='center', va='center', fontsize=16)\n",
        "\n",
        "m_rand = Net(learned_positional_encoding=True).to(device)\n",
        "m_sin = Net(learned_positional_encoding=False).to(device)\n",
        "plot_positional_embeddings_pca(model, 'Trained')\n",
        "plot_positional_embeddings_pca(m_rand, 'Random')\n",
        "plot_positional_embeddings_pca(m_sin, 'Sinusoidal')"
      ]
    },
    {
      "cell_type": "markdown",
      "metadata": {},
      "source": [
        "### over time"
      ]
    },
    {
      "cell_type": "code",
      "execution_count": 1829,
      "metadata": {},
      "outputs": [],
      "source": [
        "def get_frame(pe, ax):\n",
        "    def f(step):\n",
        "        x = pe[step]\n",
        "        gamma = 1/(F.pdist(torch.tensor(x))).median().float().item()\n",
        "        xs, ys = x[:, 0], x[:, 1]\n",
        "        ax.clear()\n",
        "        ax.set_title(f'step {step} gamma {gamma:.4f}')\n",
        "        ax.scatter(xs, ys, label='')\n",
        "        for i in range(xs.shape[0]):\n",
        "            ax.annotate(f'{i}', xy=(xs[i], ys[i]))\n",
        "    return f\n",
        "\n",
        "def animate_positional_embeddings(pe, figsize=(3, 3)):\n",
        "    fig, ax = plt.subplots(figsize=figsize)\n",
        "    ani = FuncAnimation(fig, get_frame(pe, ax), frames=len(pe), interval=50, repeat=False)\n",
        "    plt.close()\n",
        "    return ani\n",
        "\n",
        "# pes = positional_embeddings[::10]\n",
        "# # optional PCA if we are running embeddings with more than 2 dimensions\n",
        "# if pes[0].shape[-1] > 2:\n",
        "#     # pes = [PCA(n_components=2).fit_transform(x) for x in pes]\n",
        "#     pes = [KernelPCA(n_components=2, kernel='rbf', gamma=1/(F.pdist(x)).median().float().item()).fit_transform(x) for x in pes]\n",
        "\n",
        "# ani = animate_positional_embeddings(pes)\n",
        "# display(HTML(ani.to_jshtml())) # display inline"
      ]
    },
    {
      "cell_type": "code",
      "execution_count": 1830,
      "metadata": {},
      "outputs": [],
      "source": [
        "# ani.save('gifs/learned-2d-short.gif', fps=20) # save to disk"
      ]
    },
    {
      "cell_type": "code",
      "execution_count": 1831,
      "metadata": {},
      "outputs": [
        {
          "data": {
            "text/plain": [
              "tensor([[[ 1, -2,  3, -4,  5, -6]]])"
            ]
          },
          "execution_count": 1831,
          "metadata": {},
          "output_type": "execute_result"
        }
      ],
      "source": [
        "x = torch.tensor([1, 3, 5]).view(1, 1, 3)\n",
        "y = torch.tensor([-2, -4, -6]).view(1, 1, 3)\n",
        "\n",
        "# Stack x and y along a new dimension\n",
        "stacked = torch.stack((x, y), dim=-1)\n",
        "\n",
        "# Reshape the stacked tensor to a 1D tensor\n",
        "interleaved = stacked.reshape(1, 1, 6)\n",
        "interleaved"
      ]
    },
    {
      "cell_type": "code",
      "execution_count": 1832,
      "metadata": {},
      "outputs": [],
      "source": [
        "x = torch.tensor([[[1, 3, 5]],[[10, 30, 50]]]).shape\n",
        "# y = torch.tensor([-2, -4, -6]).view(1, 1, 3)\n",
        "\n",
        "# # Stack x and y along a new dimension\n",
        "# stacked = torch.stack((x, y), dim=-1)\n",
        "\n",
        "# # Reshape the stacked tensor to a 1D tensor\n",
        "# interleaved = stacked.reshape(1, 1, 6)\n",
        "# interleaved"
      ]
    }
  ],
  "metadata": {
    "accelerator": "GPU",
    "colab": {
      "gpuType": "T4",
      "provenance": [],
      "toc_visible": true
    },
    "kernelspec": {
      "display_name": "venv_hf_nlp",
      "language": "python",
      "name": "venv_hf_nlp"
    },
    "language_info": {
      "codemirror_mode": {
        "name": "ipython",
        "version": 3
      },
      "file_extension": ".py",
      "mimetype": "text/x-python",
      "name": "python",
      "nbconvert_exporter": "python",
      "pygments_lexer": "ipython3",
      "version": "3.11.2"
    }
  },
  "nbformat": 4,
  "nbformat_minor": 0
}
